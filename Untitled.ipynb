{
 "cells": [
  {
   "cell_type": "code",
   "execution_count": 225,
   "metadata": {},
   "outputs": [],
   "source": [
    "import requests, bs4"
   ]
  },
  {
   "cell_type": "code",
   "execution_count": 226,
   "metadata": {},
   "outputs": [],
   "source": [
    "resp = requests.get('http://210.119.107.159:9928/get_page')\n",
    "resp.raise_for_status()"
   ]
  },
  {
   "cell_type": "code",
   "execution_count": 227,
   "metadata": {},
   "outputs": [],
   "source": [
    "resp.encoding = 'utf-8'\n",
    "html = resp.text"
   ]
  },
  {
   "cell_type": "code",
   "execution_count": 237,
   "metadata": {},
   "outputs": [
    {
     "name": "stdout",
     "output_type": "stream",
     "text": [
      "[<h1>,서울역,2019-01-01,15,</h1>]\n",
      "train :  서울역\n",
      "dates :  2019-01-01\n",
      "times :  15\n"
     ]
    }
   ],
   "source": [
    "bs = bs4.BeautifulSoup(html, 'html.parser')\n",
    "\n",
    "value_result = str(bs.select('h1')) #역\n",
    "\n",
    "print(value_result)\n",
    "\n",
    "temp = value_result.split(',')\n",
    "\n",
    "train = temp[1]\n",
    "dates = temp[2]\n",
    "times = temp[3]\n",
    "\n",
    "\n",
    "print('train : ', train)\n",
    "print('dates : ', dates)\n",
    "print('times : ', times)"
   ]
  },
  {
   "cell_type": "code",
   "execution_count": 83,
   "metadata": {},
   "outputs": [
    {
     "name": "stdout",
     "output_type": "stream",
     "text": [
      "[마켓뷰] 유로강세가 살린 투자심리…코스피 2200선 회복\n",
      "[마감시황]코스피, 기관·외인 매수에 2200선 회복\n",
      "코스피, 반발 매수·달러 약세에 2200선 회복\n",
      "[초점]증시, 숨고르기 국면…\"중국 소비 관련주 선전 예상\"\n",
      "IPO 봄바람 탔지만…대어급은 안 보이네\n",
      "주가보다 낮은 목표가…사실상 '매도' 리포트 상당\n"
     ]
    }
   ],
   "source": [
    "size = len(tags)\n",
    "\n",
    "for i in range(0,size):\n",
    "    title = tags[i].getText()\n",
    "    print(title)"
   ]
  },
  {
   "cell_type": "code",
   "execution_count": null,
   "metadata": {},
   "outputs": [],
   "source": []
  }
 ],
 "metadata": {
  "kernelspec": {
   "display_name": "Python 3",
   "language": "python",
   "name": "python3"
  },
  "language_info": {
   "codemirror_mode": {
    "name": "ipython",
    "version": 3
   },
   "file_extension": ".py",
   "mimetype": "text/x-python",
   "name": "python",
   "nbconvert_exporter": "python",
   "pygments_lexer": "ipython3",
   "version": "3.7.3"
  }
 },
 "nbformat": 4,
 "nbformat_minor": 2
}
